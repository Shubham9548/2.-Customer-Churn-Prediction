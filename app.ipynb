{
 "cells": [
  {
   "cell_type": "code",
   "execution_count": 1,
   "id": "b8d0f7fa-07e0-4281-9439-b49fb16a630c",
   "metadata": {},
   "outputs": [
    {
     "name": "stdout",
     "output_type": "stream",
     "text": [
      " * Serving Flask app '__main__'\n",
      " * Debug mode: on\n"
     ]
    },
    {
     "name": "stderr",
     "output_type": "stream",
     "text": [
      "WARNING: This is a development server. Do not use it in a production deployment. Use a production WSGI server instead.\n",
      " * Running on http://127.0.0.1:5000\n",
      "Press CTRL+C to quit\n",
      " * Restarting with watchdog (windowsapi)\n"
     ]
    },
    {
     "ename": "SystemExit",
     "evalue": "1",
     "output_type": "error",
     "traceback": [
      "An exception has occurred, use %tb to see the full traceback.\n",
      "\u001b[1;31mSystemExit\u001b[0m\u001b[1;31m:\u001b[0m 1\n"
     ]
    },
    {
     "name": "stderr",
     "output_type": "stream",
     "text": [
      "C:\\ProgramData\\anaconda3\\lib\\site-packages\\IPython\\core\\interactiveshell.py:3585: UserWarning: To exit: use 'exit', 'quit', or Ctrl-D.\n",
      "  warn(\"To exit: use 'exit', 'quit', or Ctrl-D.\", stacklevel=1)\n"
     ]
    }
   ],
   "source": [
    "from flask import Flask, request, render_template\n",
    "import numpy as np\n",
    "import joblib\n",
    "\n",
    "app = Flask(__name__)\n",
    "\n",
    "# Model load karo\n",
    "model = joblib.load(\"churn_prediction.pkl\")\n",
    "\n",
    "@app.route('/')\n",
    "def home():\n",
    "    return render_template('index.html')\n",
    "\n",
    "@app.route('/predict', methods=['POST'])\n",
    "def predict():\n",
    "    try:\n",
    "        # Form se values lena\n",
    "        gender = request.form['gender']        # Male/Female\n",
    "        senior_citizen = request.form['senior_citizen']  # Yes/No\n",
    "        partner = request.form['partner']      # Yes/No\n",
    "        dependents = request.form['dependents']  # Yes/No\n",
    "        tenure = float(request.form['tenure'])\n",
    "        monthly_charges = float(request.form['monthly_charges'])\n",
    "\n",
    "        # Values convert karna (Yes=1, No=0, Male=1, Female=0)\n",
    "        gender = 1 if gender == \"Male\" else 0\n",
    "        senior_citizen = 1 if senior_citizen == \"Yes\" else 0\n",
    "        partner = 1 if partner == \"Yes\" else 0\n",
    "        dependents = 1 if dependents == \"Yes\" else 0\n",
    "\n",
    "        # Prediction\n",
    "        data = np.array([[gender, senior_citizen, partner, dependents, tenure, monthly_charges]])\n",
    "        prediction = model.predict(data)\n",
    "\n",
    "        result = \"Customer Will Churn\" if prediction[0] == 1 else \"Customer Will Not Churn\"\n",
    "        return render_template('index.html', prediction_text=result)\n",
    "\n",
    "    except Exception as e:\n",
    "        return render_template('index.html', prediction_text=f\"Error: {str(e)}\")\n",
    "\n",
    "if __name__ == '__main__':\n",
    "    app.run(debug=True)\n"
   ]
  },
  {
   "cell_type": "code",
   "execution_count": null,
   "id": "5284139b-79a7-479a-9f53-bddfc7ed91cb",
   "metadata": {},
   "outputs": [],
   "source": []
  },
  {
   "cell_type": "code",
   "execution_count": null,
   "id": "d6bc0783-66e3-455e-8ea4-cc5c2c47da47",
   "metadata": {},
   "outputs": [],
   "source": []
  },
  {
   "cell_type": "code",
   "execution_count": null,
   "id": "e6cc4294-6794-463d-82bc-20185b03dab6",
   "metadata": {},
   "outputs": [],
   "source": []
  },
  {
   "cell_type": "code",
   "execution_count": null,
   "id": "f6d69f7b-0dc9-4468-aeee-1dc72d6b7ce6",
   "metadata": {},
   "outputs": [],
   "source": []
  },
  {
   "cell_type": "code",
   "execution_count": null,
   "id": "3a0cdf55-d17d-46be-8ff5-66b51763f8b7",
   "metadata": {},
   "outputs": [],
   "source": []
  }
 ],
 "metadata": {
  "kernelspec": {
   "display_name": "Python 3 (ipykernel)",
   "language": "python",
   "name": "python3"
  },
  "language_info": {
   "codemirror_mode": {
    "name": "ipython",
    "version": 3
   },
   "file_extension": ".py",
   "mimetype": "text/x-python",
   "name": "python",
   "nbconvert_exporter": "python",
   "pygments_lexer": "ipython3",
   "version": "3.10.16"
  },
  "widgets": {
   "application/vnd.jupyter.widget-state+json": {
    "state": {},
    "version_major": 2,
    "version_minor": 0
   }
  }
 },
 "nbformat": 4,
 "nbformat_minor": 5
}
